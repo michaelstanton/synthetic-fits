{
 "cells": [
  {
   "cell_type": "code",
   "execution_count": 1,
   "metadata": {},
   "outputs": [
    {
     "name": "stdout",
     "output_type": "stream",
     "text": [
      "Requirement already satisfied: astropy in ./venv/lib/python3.10/site-packages (6.1.7)\n",
      "Requirement already satisfied: packaging>=19.0 in ./venv/lib/python3.10/site-packages (from astropy) (24.2)\n",
      "Requirement already satisfied: astropy-iers-data>=0.2024.10.28.0.34.7 in ./venv/lib/python3.10/site-packages (from astropy) (0.2025.1.13.0.34.51)\n",
      "Requirement already satisfied: numpy>=1.23 in ./venv/lib/python3.10/site-packages (from astropy) (2.2.1)\n",
      "Requirement already satisfied: PyYAML>=3.13 in ./venv/lib/python3.10/site-packages (from astropy) (6.0.2)\n",
      "Requirement already satisfied: pyerfa>=2.0.1.1 in ./venv/lib/python3.10/site-packages (from astropy) (2.0.1.5)\n",
      "\n",
      "[notice] A new release of pip is available: 23.0.1 -> 24.3.1\n",
      "[notice] To update, run: pip install --upgrade pip\n",
      "Note: you may need to restart the kernel to use updated packages.\n",
      "Requirement already satisfied: scipy in ./venv/lib/python3.10/site-packages (1.15.1)\n",
      "Requirement already satisfied: numpy<2.5,>=1.23.5 in ./venv/lib/python3.10/site-packages (from scipy) (2.2.1)\n",
      "\n",
      "[notice] A new release of pip is available: 23.0.1 -> 24.3.1\n",
      "[notice] To update, run: pip install --upgrade pip\n",
      "Note: you may need to restart the kernel to use updated packages.\n",
      "Requirement already satisfied: matplotlib in ./venv/lib/python3.10/site-packages (3.10.0)\n",
      "Requirement already satisfied: pillow>=8 in ./venv/lib/python3.10/site-packages (from matplotlib) (11.1.0)\n",
      "Requirement already satisfied: contourpy>=1.0.1 in ./venv/lib/python3.10/site-packages (from matplotlib) (1.3.1)\n",
      "Requirement already satisfied: kiwisolver>=1.3.1 in ./venv/lib/python3.10/site-packages (from matplotlib) (1.4.8)\n",
      "Requirement already satisfied: packaging>=20.0 in ./venv/lib/python3.10/site-packages (from matplotlib) (24.2)\n",
      "Requirement already satisfied: fonttools>=4.22.0 in ./venv/lib/python3.10/site-packages (from matplotlib) (4.55.3)\n",
      "Requirement already satisfied: python-dateutil>=2.7 in ./venv/lib/python3.10/site-packages (from matplotlib) (2.9.0.post0)\n",
      "Requirement already satisfied: cycler>=0.10 in ./venv/lib/python3.10/site-packages (from matplotlib) (0.12.1)\n",
      "Requirement already satisfied: numpy>=1.23 in ./venv/lib/python3.10/site-packages (from matplotlib) (2.2.1)\n",
      "Requirement already satisfied: pyparsing>=2.3.1 in ./venv/lib/python3.10/site-packages (from matplotlib) (3.2.1)\n",
      "Requirement already satisfied: six>=1.5 in ./venv/lib/python3.10/site-packages (from python-dateutil>=2.7->matplotlib) (1.17.0)\n",
      "\n",
      "[notice] A new release of pip is available: 23.0.1 -> 24.3.1\n",
      "[notice] To update, run: pip install --upgrade pip\n",
      "Note: you may need to restart the kernel to use updated packages.\n",
      "Requirement already satisfied: astroquery in ./venv/lib/python3.10/site-packages (0.4.8)\n",
      "Requirement already satisfied: beautifulsoup4>=4.8 in ./venv/lib/python3.10/site-packages (from astroquery) (4.12.3)\n",
      "Requirement already satisfied: html5lib>=0.999 in ./venv/lib/python3.10/site-packages (from astroquery) (1.1)\n",
      "Requirement already satisfied: requests>=2.19 in ./venv/lib/python3.10/site-packages (from astroquery) (2.32.3)\n",
      "Requirement already satisfied: pyvo>=1.5 in ./venv/lib/python3.10/site-packages (from astroquery) (1.6)\n",
      "Requirement already satisfied: keyring>=15.0 in ./venv/lib/python3.10/site-packages (from astroquery) (25.6.0)\n",
      "Requirement already satisfied: numpy>=1.20 in ./venv/lib/python3.10/site-packages (from astroquery) (2.2.1)\n",
      "Requirement already satisfied: astropy>=5.0 in ./venv/lib/python3.10/site-packages (from astroquery) (6.1.7)\n",
      "Requirement already satisfied: PyYAML>=3.13 in ./venv/lib/python3.10/site-packages (from astropy>=5.0->astroquery) (6.0.2)\n",
      "Requirement already satisfied: packaging>=19.0 in ./venv/lib/python3.10/site-packages (from astropy>=5.0->astroquery) (24.2)\n",
      "Requirement already satisfied: pyerfa>=2.0.1.1 in ./venv/lib/python3.10/site-packages (from astropy>=5.0->astroquery) (2.0.1.5)\n",
      "Requirement already satisfied: astropy-iers-data>=0.2024.10.28.0.34.7 in ./venv/lib/python3.10/site-packages (from astropy>=5.0->astroquery) (0.2025.1.13.0.34.51)\n",
      "Requirement already satisfied: soupsieve>1.2 in ./venv/lib/python3.10/site-packages (from beautifulsoup4>=4.8->astroquery) (2.6)\n",
      "Requirement already satisfied: webencodings in ./venv/lib/python3.10/site-packages (from html5lib>=0.999->astroquery) (0.5.1)\n",
      "Requirement already satisfied: six>=1.9 in ./venv/lib/python3.10/site-packages (from html5lib>=0.999->astroquery) (1.17.0)\n",
      "Requirement already satisfied: importlib_metadata>=4.11.4 in ./venv/lib/python3.10/site-packages (from keyring>=15.0->astroquery) (8.5.0)\n",
      "Requirement already satisfied: jaraco.classes in ./venv/lib/python3.10/site-packages (from keyring>=15.0->astroquery) (3.4.0)\n",
      "Requirement already satisfied: jaraco.context in ./venv/lib/python3.10/site-packages (from keyring>=15.0->astroquery) (6.0.1)\n",
      "Requirement already satisfied: jaraco.functools in ./venv/lib/python3.10/site-packages (from keyring>=15.0->astroquery) (4.1.0)\n",
      "Requirement already satisfied: certifi>=2017.4.17 in ./venv/lib/python3.10/site-packages (from requests>=2.19->astroquery) (2024.12.14)\n",
      "Requirement already satisfied: urllib3<3,>=1.21.1 in ./venv/lib/python3.10/site-packages (from requests>=2.19->astroquery) (2.3.0)\n",
      "Requirement already satisfied: charset-normalizer<4,>=2 in ./venv/lib/python3.10/site-packages (from requests>=2.19->astroquery) (3.4.1)\n",
      "Requirement already satisfied: idna<4,>=2.5 in ./venv/lib/python3.10/site-packages (from requests>=2.19->astroquery) (3.10)\n",
      "Requirement already satisfied: zipp>=3.20 in ./venv/lib/python3.10/site-packages (from importlib_metadata>=4.11.4->keyring>=15.0->astroquery) (3.21.0)\n",
      "Requirement already satisfied: more-itertools in ./venv/lib/python3.10/site-packages (from jaraco.classes->keyring>=15.0->astroquery) (10.6.0)\n",
      "Requirement already satisfied: backports.tarfile in ./venv/lib/python3.10/site-packages (from jaraco.context->keyring>=15.0->astroquery) (1.2.0)\n",
      "\n",
      "[notice] A new release of pip is available: 23.0.1 -> 24.3.1\n",
      "[notice] To update, run: pip install --upgrade pip\n",
      "Note: you may need to restart the kernel to use updated packages.\n",
      "Requirement already satisfied: skyfield in ./venv/lib/python3.10/site-packages (1.49)\n",
      "Requirement already satisfied: sgp4>=2.2 in ./venv/lib/python3.10/site-packages (from skyfield) (2.23)\n",
      "Requirement already satisfied: numpy in ./venv/lib/python3.10/site-packages (from skyfield) (2.2.1)\n",
      "Requirement already satisfied: certifi>=2017.4.17 in ./venv/lib/python3.10/site-packages (from skyfield) (2024.12.14)\n",
      "Requirement already satisfied: jplephem>=2.13 in ./venv/lib/python3.10/site-packages (from skyfield) (2.22)\n",
      "\n",
      "[notice] A new release of pip is available: 23.0.1 -> 24.3.1\n",
      "[notice] To update, run: pip install --upgrade pip\n",
      "Note: you may need to restart the kernel to use updated packages.\n"
     ]
    }
   ],
   "source": [
    "# %pip install astropy\\n",
    "# %pip install scipy\\n",
    "# %pip install matplotlib\\n",
    "# %pip install astroquery\\n",
    "# %pip install skyfield"
   ]
  },
  {
   "cell_type": "code",
   "execution_count": 2,
   "metadata": {},
   "outputs": [],
   "source": [
    "import numpy as np\n",
    "import astropy.io.fits as fits\n",
    "from astropy.convolution import convolve, Gaussian2DKernel\n",
    "from astropy.table import Table\n",
    "from astropy.modeling.models import Moffat2D\n",
    "import scipy.stats\n",
    "import matplotlib.pyplot as plt\n",
    "from datetime import datetime, timezone, timedelta\n",
    "\n",
    "from synthetic_image import (\n",
    "    get_star_catalog,\n",
    "    build_synthetic_wcs,\n",
    "    world_to_pixel,\n",
    "    mag_to_flux,\n",
    "    add_psf_to_image,\n",
    "    make_gaussian_psf,\n",
    "    make_moffat_psf,\n",
    "    sky_brightness_to_electrons,\n",
    "    add_satellite_substepping,\n",
    "    add_star_trails_skyfield\n",
    ")"
   ]
  },
  {
   "cell_type": "code",
   "execution_count": 3,
   "metadata": {},
   "outputs": [],
   "source": [
    "image_width = 4144\n",
    "image_height = 2822\n",
    "\n",
    "ra_center = 88.29533\n",
    "dec_center = -5.364887\n",
    "rotation_degrees = -52.0\n",
    "\n",
    "max_mag = 19.5\n",
    "\n",
    "seeing_arcsec = 5.5\n",
    "pixscale_arcsec = .495\n",
    "\n",
    "aperture_area      = 324.29      # cm^2\n",
    "quantum_efficiency = 0.800\n",
    "exposure_time      = 5.0     # seconds\n",
    "sky_mag_per_arcsec2 = 18.5    # dark-ish sky\n",
    "mag_zero_point     = 15.5"
   ]
  },
  {
   "cell_type": "code",
   "execution_count": 4,
   "metadata": {},
   "outputs": [],
   "source": [
    "wcs_obj, wcs_header = build_synthetic_wcs(\n",
    "    image_width,\n",
    "    image_height,\n",
    "    ra_center,\n",
    "    dec_center,\n",
    "    pixscale_arcsec=pixscale_arcsec,\n",
    "    rotation_degrees=rotation_degrees\n",
    ")"
   ]
  },
  {
   "cell_type": "code",
   "execution_count": 5,
   "metadata": {},
   "outputs": [],
   "source": [
    "synthetic_image = np.zeros((image_height, image_width), dtype=float)"
   ]
  },
  {
   "cell_type": "code",
   "execution_count": 6,
   "metadata": {},
   "outputs": [],
   "source": [
    "fwhm_pixels = seeing_arcsec / pixscale_arcsec"
   ]
  },
  {
   "cell_type": "code",
   "execution_count": 7,
   "metadata": {},
   "outputs": [
    {
     "data": {
      "image/png": "[encoded data removed]",
      "text/plain": [
       "<Figure size 640x480 with 2 Axes>"
      ]
     },
     "metadata": {},
     "output_type": "display_data"
    }
   ],
   "source": [
    "psf_kernel = make_moffat_psf(\n",
    "    size=int(fwhm_pixels * 6),\n",
    "    fwhm=fwhm_pixels,\n",
    "    moffat_alpha=4\n",
    ")\n",
    "plt.imshow(psf_kernel, cmap='gray')\n",
    "plt.colorbar()\n",
    "plt.show()"
   ]
  },
  {
   "cell_type": "code",
   "execution_count": 8,
   "metadata": {},
   "outputs": [],
   "source": [
    "sky_bg = sky_brightness_to_electrons(\n",
    "    sky_mag_per_arcsec2,\n",
    "    plate_scale_arcsec_per_pix=.495,\n",
    "    exposure_time=exposure_time,\n",
    "    quantum_efficiency=quantum_efficiency,\n",
    "    aperture_area=aperture_area,\n",
    "    mag_zero_point=mag_zero_point\n",
    ")\n",
    "\n",
    "synthetic_image += sky_bg"
   ]
  },
  {
   "cell_type": "code",
   "execution_count": 9,
   "metadata": {},
   "outputs": [
    {
     "data": {
      "image/png": "[encoded data removed]",
      "text/plain": [
       "<Figure size 640x480 with 1 Axes>"
      ]
     },
     "metadata": {},
     "output_type": "display_data"
    }
   ],
   "source": [
    "plt.imshow(synthetic_image, cmap='gray')\n",
    "plt.show()"
   ]
  },
  {
   "cell_type": "code",
   "execution_count": 10,
   "metadata": {
    "collapsed": false
   },
   "outputs": [],
   "source": [
    "# IMPORTANT: here we define star_catalog so that star trails can be drawn\n",
    "star_catalog = get_star_catalog(\n",
    "    ra_center=ra_center,\n",
    "    dec_center=dec_center,\n",
    "    radius=0.5,   # search radius in degrees (ensure it's big enough)\n",
    "    max_mag=19.5  # limit magnitude\n",
    ")\n",
    "print(f\"Retrieved {len(star_catalog) if star_catalog else 0} stars.\")"
   ]
  },
  {
   "cell_type": "code",
   "execution_count": 11,
   "metadata": {},
   "outputs": [],
   "source": [
    "# If no stars found, star_catalog might be None. Proceed only if we have data.\n",
    "if star_catalog is not None:\n",
    "    start_time = datetime(2025, 1, 10, 5, 0, 0, tzinfo=timezone.utc)\n",
    "    end_time = start_time + timedelta(seconds=60)\n",
    "    num_sub_steps = 20\n",
    "\n",
    "    add_star_trails_skyfield(\n",
    "        image=synthetic_image,\n",
    "        star_catalog=star_catalog,\n",
    "        wcs_obj=wcs_obj,\n",
    "        lat_deg=34.05,\n",
    "        lon_deg=-118.25,\n",
    "        alt_m=100.0,\n",
    "        start_time=start_time,\n",
    "        end_time=end_time,\n",
    "        num_sub_steps=num_sub_steps,\n",
    "        aperture_area=aperture_area,\n",
    "        quantum_efficiency=quantum_efficiency,\n",
    "        mag_zero_point=mag_zero_point,\n",
    "        psf_kernel=psf_kernel,\n",
    "        extinction=1.3  # example atmospheric extinction\n",
    "    )"
   ]
  },
  {
   "cell_type": "code",
   "execution_count": 12,
   "metadata": {},
   "outputs": [],
   "source": [
    "read_noise_e = 5.0\n",
    "noisy_image = np.random.poisson(synthetic_image) + np.random.normal(loc=0.0, scale=read_noise_e, size=synthetic_image.shape)\n",
    "noisy_image = np.fliplr(noisy_image)"
   ]
  },
  {
   "cell_type": "code",
   "execution_count": null,
   "metadata": {},
   "outputs": [],
   "source": [
    "plt.imshow(noisy_image, cmap='gray', vmin=np.percentile(noisy_image, 0.5), vmax=np.percentile(noisy_image, 99.5))\n",
    "plt.show()"
   ]
  },
  {
   "cell_type": "code",
   "execution_count": null,
   "metadata": {},
   "outputs": [],
   "source": [
    "timestamp = datetime.now().strftime(\"%Y%m%d_%H%M%S\")\n",
    "wcs_header[\"EXPTIME\"] = (exposure_time, \"Exposure time in seconds\")\n",
    "wcs_header[\"DATE-OBS\"] = (datetime.utcnow().strftime(\"%Y-%m-%dT%H:%M:%S\"), \"UTC date/time of observation start\")\n",
    "wcs_header[\"TELESCOP\"] = (\"Simulator\", \"Telescope name\")\n",
    "wcs_header[\"PIXSCALE\"] = (pixscale_arcsec, \"Plate scale in arcsec/pixel\")\n",
    "wcs_header[\"RA\"] = (ra_center, \"Right Ascension in degrees\")\n",
    "wcs_header[\"DEC\"] = (dec_center, \"Declination in degrees\")\n",
    "wcs_header[\"RADECSYS\"] = (\"ICRS\", \"Right Ascension and Declination system\")\n",
    "\n",
    "hdu = fits.PrimaryHDU(data=noisy_image, header=wcs_header)\n",
    "hdu.writeto(f\"output/synthetic_image_{timestamp}.fits\", overwrite=True)\n",
    "print(f\"Synthetic image saved to synthetic_image_{timestamp}.fits\")"
   ]
  }
]
,
 "metadata": {
  "kernelspec": {
   "display_name": "venv",
   "language": "python",
   "name": "python3"
  },
  "language_info": {
   "codemirror_mode": {
    "name": "ipython",
    "version": 3
   },
   "file_extension": ".py",
   "mimetype": "text/x-python",
   "name": "python",
   "nbconvert_exporter": "python",
   "pygments_lexer": "ipython3",
   "version": "3.10.13"
  }
 },
 "nbformat": 4,
 "nbformat_minor": 2
}