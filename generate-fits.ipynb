{
 "cells": [
  {
   "cell_type": "code",
   "execution_count": 1,
   "metadata": {},
   "outputs": [],
   "source": [
    "# %pip install astropy\n",
    "# %pip install scipy\n",
    "# %pip install matplotlib\n",
    "# %pip install astroquery\n",
    "# %pip install skyfield"
   ]
  },
  {
   "cell_type": "code",
   "execution_count": 2,
   "metadata": {},
   "outputs": [],
   "source": [
    "import numpy as np\n",
    "import astropy.io.fits as fits\n",
    "import matplotlib.pyplot as plt\n",
    "from datetime import datetime, timezone, timedelta\n",
    "\n",
    "# NEW: Import telescope and sensor configuration\n",
    "from instrument_config import TelescopeConfig, SensorConfig\n",
    "\n",
    "# Example usage of the new API\n",
    "telescope = TelescopeConfig(\n",
    "    focal_length_mm=1000.0,\n",
    "    aperture_mm=100.0,\n",
    "    image_circle_mm=50.0\n",
    ")\n",
    "\n",
    "sensor = SensorConfig(\n",
    "    pixel_size_um=4.8,\n",
    "    sensor_width_px=4144,\n",
    "    sensor_height_px=2822,\n",
    "    full_well_capacity_e=30000,\n",
    "    quantum_efficiency=0.8,\n",
    "    read_noise_e=5.0\n",
    ")\n",
    "\n",
    "computed_pixscale_arcsec = sensor.compute_pixel_scale_arcsec(telescope)\n",
    "print(f\"Pixel scale from config: {computed_pixscale_arcsec:.3f} arcsec/pixel\")\n",
    "print(f\"Aperture area from config: {telescope.aperture_area_cm2:.2f} cm^2\")\n",
    "print(f\"F-ratio from config: f/{telescope.f_ratio:.2f}\")\n"
   ]
  },
  {
   "cell_type": "code",
   "execution_count": 3,
   "metadata": {},
   "outputs": [],
   "source": [
    "from synthetic_image import (\n",
    "    get_star_catalog,\n",
    "    build_synthetic_wcs,\n",
    "    world_to_pixel,\n",
    "    mag_to_flux,\n",
    "    add_psf_to_image,\n",
    "    make_gaussian_psf,\n",
    "    make_moffat_psf,\n",
    "    sky_brightness_to_electrons,\n",
    "    add_satellite_substepping,\n",
    "    add_star_trails_skyfield,\n",
    "    add_star_trails_fixed_camera\n",
    ")\n",
    "from skyfield.api import load, wgs84, Star"
   ]
  },
  {
   "cell_type": "code",
   "execution_count": 4,
   "metadata": {},
   "outputs": [],
   "source": [
    "# Basic parameters\n",
    "image_width = 4144\n",
    "image_height = 2822\n",
    "\n",
    "# Note: You could optionally override this with the computed_pixscale_arcsec above.\n",
    "# For demonstration, we'll keep the originally hard-coded value.\n",
    "ra_center = 88.29533   # degrees\n",
    "dec_center = -5.364887 # degrees\n",
    "rotation_degrees = -52.0\n",
    "\n",
    "max_mag = 14.5 #15.5\n",
    "seeing_arcsec = 5.5\n",
    "pixscale_arcsec = 0.495  # you could do: computed_pixscale_arcsec\n",
    "\n",
    "# Fictional camera/telescope parameters\n",
    "aperture_area      = 324.29  # cm^2\n",
    "quantum_efficiency = 0.800\n",
    "exposure_time      = 2.0     # seconds\n",
    "sky_mag_per_arcsec2 = 18.5   # mag/arcsec^2\n",
    "mag_zero_point     = 15.5"
   ]
  },
  {
   "cell_type": "code",
   "execution_count": 5,
   "metadata": {},
   "outputs": [],
   "source": [
    "# (Optional) If we want a final WCS matching the RA/Dec center and rotation:\n",
    "wcs_obj, wcs_header = build_synthetic_wcs(\n",
    "    image_width,\n",
    "    image_height,\n",
    "    ra_center,\n",
    "    dec_center,\n",
    "    pixscale_arcsec=pixscale_arcsec,\n",
    "    rotation_degrees=rotation_degrees\n",
    ")"
   ]
  },
  {
   "cell_type": "code",
   "execution_count": 6,
   "metadata": {},
   "outputs": [],
   "source": [
    "# Create an empty image\n",
    "synthetic_image = np.zeros((image_height, image_width), dtype=float)"
   ]
  },
  {
   "cell_type": "code",
   "execution_count": null,
   "metadata": {},
   "outputs": [],
   "source": [
    "# Increase search radius to 2.0 deg to find more stars\n",
    "star_catalog = get_star_catalog(ra_center, dec_center, radius=2.0, max_mag=max_mag)\n",
    "if star_catalog is None or len(star_catalog) == 0:\n",
    "    print('No stars returned by catalog query. You may need to use a brighter max_mag or larger radius.')\n",
    "else:\n",
    "    print(f'Successfully retrieved {len(star_catalog)} stars.')\n",
    "fwhm_pixels = seeing_arcsec / pixscale_arcsec"
   ]
  },
  {
   "cell_type": "code",
   "execution_count": null,
   "metadata": {},
   "outputs": [],
   "source": [
    "# Create a Moffat PSF\n",
    "psf_kernel = make_moffat_psf(\n",
    "    size=int(fwhm_pixels * 6),\n",
    "    fwhm=fwhm_pixels,\n",
    "    moffat_alpha=4\n",
    ")\n",
    "plt.imshow(psf_kernel, cmap='gray')\n",
    "plt.colorbar()\n",
    "plt.title('PSF Kernel')\n",
    "plt.show()"
   ]
  },
  {
   "cell_type": "code",
   "execution_count": null,
   "metadata": {},
   "outputs": [],
   "source": [
    "# Add sky background\n",
    "sky_bg = sky_brightness_to_electrons(\n",
    "    sky_mag_per_arcsec2,\n",
    "    plate_scale_arcsec_per_pix=pixscale_arcsec,\n",
    "    exposure_time=exposure_time,\n",
    "    quantum_efficiency=quantum_efficiency,\n",
    "    aperture_area=aperture_area,\n",
    "    mag_zero_point=mag_zero_point\n",
    ")\n",
    "synthetic_image += sky_bg\n",
    "plt.imshow(synthetic_image, cmap='gray')\n",
    "plt.title('After Sky Background')\n",
    "plt.show()"
   ]
  },
  {
   "cell_type": "code",
   "execution_count": null,
   "metadata": {},
   "outputs": [],
   "source": [
    "# Suppose we have a 600s exposure, but shift it to a different time so the star might be above horizon.\n",
    "# For example, pick ~2025-01-10 09:00 UTC to see if that lifts the star above horizon.\n",
    "start_time = datetime(2025, 1, 10, 9, 0, 0, tzinfo=timezone.utc)\n",
    "end_time = start_time + timedelta(seconds=exposure_time)\n",
    "num_sub_steps = 20\n",
    "\n",
    "# 1) Compute alt0, az0 that correspond to the RA/Dec center at start_time.\n",
    "ts = load.timescale()\n",
    "t0 = ts.from_datetime(start_time)\n",
    "planets = load('de421.bsp')\n",
    "earth = planets['earth']\n",
    "site = earth + wgs84.latlon(34.05, -118.25, elevation_m=100.0)  # LA area, example\n",
    "center_star = Star(ra_hours=ra_center/15.0, dec_degrees=dec_center)\n",
    "app_center = site.at(t0).observe(center_star).apparent()\n",
    "alt_center, az_center, dist_center = app_center.altaz()\n",
    "alt0_guess = alt_center.degrees\n",
    "az0_guess  = az_center.degrees\n",
    "print(f'Computed alt0={alt0_guess:.2f}°, az0={az0_guess:.2f}° at start time')"
   ]
  },
  {
   "cell_type": "code",
   "execution_count": null,
   "metadata": {},
   "outputs": [],
   "source": [
    "# 2) Use alt0_guess, az0_guess in add_star_trails_fixed_camera\n",
    "if star_catalog is not None and len(star_catalog) > 0:\n",
    "    add_star_trails_fixed_camera(\n",
    "        image=synthetic_image,\n",
    "        star_catalog=star_catalog,\n",
    "        lat_deg=34.05,\n",
    "        lon_deg=-118.25,\n",
    "        alt_m=100.0,\n",
    "        start_time=start_time,\n",
    "        end_time=end_time,\n",
    "        num_sub_steps=num_sub_steps,\n",
    "        aperture_area=aperture_area,\n",
    "        quantum_efficiency=quantum_efficiency,\n",
    "        mag_zero_point=mag_zero_point,\n",
    "        psf_kernel=psf_kernel,\n",
    "        extinction=0.5,\n",
    "        camera_rotation_deg=-90.0,\n",
    "        arcsec_per_pix=pixscale_arcsec,\n",
    "        alt0=alt0_guess,\n",
    "        az0=az0_guess\n",
    "    )\n",
    "    plt.imshow(synthetic_image, cmap='gray', vmin=np.percentile(synthetic_image, 0.5), vmax=np.percentile(synthetic_image, 99.5))\n",
    "    plt.title('Star Trails (Fixed Camera, alt0/az0 from ra_center/dec_center)')\n",
    "    plt.show()\n",
    "else:\n",
    "    print('Skipping star trails because no star_catalog data was returned.')"
   ]
  },
  {
   "cell_type": "code",
   "execution_count": null,
   "metadata": {},
   "outputs": [],
   "source": [
    "# Optional: Add noise\n",
    "read_noise_e = 5.0\n",
    "noisy_image = np.random.poisson(synthetic_image) + np.random.normal(loc=0.0, scale=read_noise_e, size=synthetic_image.shape)\n",
    "noisy_image = np.fliplr(noisy_image)  # optional flip\n",
    "plt.imshow(noisy_image, cmap='gray', vmin=np.percentile(noisy_image, 0.5), vmax=np.percentile(noisy_image, 99.5))\n",
    "plt.title('Noisy Image')\n",
    "plt.show()"
   ]
  },
  {
   "cell_type": "code",
   "execution_count": null,
   "metadata": {},
   "outputs": [],
   "source": [
    "# Save to FITS with WCS from earlier (just referencing ra_center/dec_center at start)\n",
    "timestamp = datetime.now().strftime(\"%Y%m%d_%H%M%S\")\n",
    "wcs_header[\"EXPTIME\"] = (exposure_time, \"Exposure time in seconds\")\n",
    "wcs_header[\"DATE-OBS\"] = (start_time.strftime(\"%Y-%m-%dT%H:%M:%S\"), \"UTC date/time of observation start\")\n",
    "wcs_header[\"TELESCOP\"] = (\"Simulator\", \"Telescope name\")\n",
    "wcs_header[\"PIXSCALE\"] = (pixscale_arcsec, \"Plate scale in arcsec/pixel\")\n",
    "wcs_header[\"RA\"] = (ra_center, \"Right Ascension in degrees\")\n",
    "wcs_header[\"DEC\"] = (dec_center, \"Declination in degrees\")\n",
    "wcs_header[\"RADECSYS\"] = (\"ICRS\", \"Right Ascension and Declination system\")\n",
    "\n",
    "hdu = fits.PrimaryHDU(data=noisy_image, header=wcs_header)\n",
    "output_filename = f\"output/synthetic_image_{timestamp}.fits\"\n",
    "hdu.writeto(output_filename, overwrite=True)\n",
    "print(f\"Synthetic image saved to {output_filename}\")"
   ]
  }
 ],
 "metadata": {
  "kernelspec": {
   "display_name": "venv",
   "language": "python",
   "name": "python3"
  },
  "language_info": {
   "codemirror_mode": {
    "name": "ipython",
    "version": 3
   },
   "file_extension": ".py",
   "mimetype": "text/x-python",
   "name": "python",
   "nbconvert_exporter": "python",
   "pygments_lexer": "ipython3",
   "version": "3.10.13"
  }
 },
 "nbformat": 4,
 "nbformat_minor": 2
}