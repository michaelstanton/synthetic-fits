{
 "cells": [
  {
   "cell_type": "code",
   "execution_count": 1,
   "metadata": {},
   "outputs": [],
   "source": [
    "# %pip install astropy\n",
    "# %pip install scipy\n",
    "# %pip install matplotlib\n",
    "# %pip install astroquery\n",
    "# %pip install skyfield"
   ]
  },
  {
   "cell_type": "code",
   "execution_count": 2,
   "metadata": {},
   "outputs": [],
   "source": [
    "import numpy as np\n",
    "import astropy.io.fits as fits\n",
    "from astropy.convolution import convolve, Gaussian2DKernel\n",
    "from astropy.table import Table\n",
    "from astropy.modeling.models import Moffat2D\n",
    "import scipy.stats\n",
    "import matplotlib.pyplot as plt\n",
    "from datetime import datetime, timezone, timedelta\n",
    "\n",
    "from synthetic_image import (\n",
    "    get_star_catalog,\n",
    "    build_synthetic_wcs,\n",
    "    world_to_pixel,\n",
    "    mag_to_flux,\n",
    "    add_psf_to_image,\n",
    "    make_gaussian_psf,\n",
    "    make_moffat_psf,\n",
    "    sky_brightness_to_electrons,\n",
    "    add_satellite_substepping,\n",
    "    add_star_trails_skyfield\n",
    ")"
   ]
  },
  {
   "cell_type": "code",
   "execution_count": 3,
   "metadata": {},
   "outputs": [],
   "source": [
    "# Example: create a synthetic 512x512 image centered at RA=10°, Dec=20°,\n",
    "# 1 arcsec/pix, no rotation, with a basic Gaussian PSF and random star positions\n",
    "\n",
    "image_width = 4144\n",
    "image_height = 2822\n",
    "\n",
    "ra_center = 88.29533\n",
    "dec_center = -5.364887\n",
    "rotation_degrees = -52.0\n",
    "\n",
    "max_mag = 19.5\n",
    "\n",
    "seeing_arcsec = 5.5\n",
    "pixscale_arcsec = .495\n",
    "\n",
    "# Telescope & camera parameters (fictional example)\n",
    "aperture_area      = 324.29      # cm^2\n",
    "quantum_efficiency = 0.800\n",
    "exposure_time      = 5.0     # seconds\n",
    "sky_mag_per_arcsec2 = 18.5    # dark-ish sky\n",
    "mag_zero_point     = 15.5"
   ]
  },
  {
   "cell_type": "code",
   "execution_count": 4,
   "metadata": {},
   "outputs": [],
   "source": [
    "# 1) Build a WCS\n",
    "wcs_obj, wcs_header = build_synthetic_wcs(\n",
    "    image_width,\n",
    "    image_height,\n",
    "    ra_center,\n",
    "    dec_center,\n",
    "    pixscale_arcsec=pixscale_arcsec,\n",
    "    rotation_degrees=rotation_degrees\n",
    ")"
   ]
  },
  {
   "cell_type": "code",
   "execution_count": 5,
   "metadata": {},
   "outputs": [],
   "source": [
    "# 2) Create an empty image\n",
    "synthetic_image = np.zeros((image_height, image_width), dtype=float)"
   ]
  },
  {
   "cell_type": "code",
   "execution_count": 6,
   "metadata": {},
   "outputs": [],
   "source": [
    "# 3) Retrieve some real star positions (requires network)\n",
    "star_catalog = get_star_catalog(ra_center, dec_center, radius=0.3, max_mag=max_mag)\n",
    "fwhm_pixels = seeing_arcsec / pixscale_arcsec"
   ]
  },
  {
   "cell_type": "code",
   "execution_count": null,
   "metadata": {},
   "outputs": [],
   "source": [
    "# 4) Make a PSF\n",
    "# psf_kernel = make_gaussian_psf(size=fwhm_pixels * 8, fwhm=fwhm_pixels)\n",
    "psf_kernel = make_moffat_psf(\n",
    "    size=int(fwhm_pixels * 6),          # total kernel size in pixels\n",
    "    fwhm=fwhm_pixels,         # FWHM in pixels\n",
    "    moffat_alpha=4  # shape index\n",
    ")\n",
    "\n",
    "#plot the PSF\n",
    "plt.imshow(psf_kernel, cmap='gray')\n",
    "plt.colorbar()\n",
    "plt.show()"
   ]
  },
  {
   "cell_type": "code",
   "execution_count": 8,
   "metadata": {},
   "outputs": [],
   "source": [
    "# # Let's define a start/end RA/Dec that crosses roughly the center of your existing field:\n",
    "# # For demonstration, pick something near your center at (ra_center, dec_center)\n",
    "# # We'll move ~0.07 degrees in RA (a few arcminutes) during the same exposure time as stars.\n",
    "\n",
    "# # REPLACE or TWEAK these as desired:\n",
    "# sat_start_ra = ra_center - 0.03   # start slightly west\n",
    "# sat_start_dec = dec_center\n",
    "# sat_end_ra = ra_center + 0.04     # end slightly east, crossing center\n",
    "# sat_end_dec = dec_center\n",
    "\n",
    "# # Suppose we want a total flux akin to a ~mag 9 satellite over the 5s exposure\n",
    "# # We'll estimate flux similarly to how we do for a star:\n",
    "# sat_mag = 12.0\n",
    "\n",
    "# # sat_mag_atm_corrected = sat_mag + 1.0  # Isn't this already corrected?\n",
    "# sat_flux_electrons = mag_to_flux(\n",
    "#     mag=sat_mag,\n",
    "#     exposure_time=exposure_time,\n",
    "#     aperture_area=aperture_area,\n",
    "#     quantum_efficiency=quantum_efficiency,\n",
    "#     mag_zero_point=mag_zero_point\n",
    "# )\n",
    "\n",
    "# # We'll use 30 sub-steps so the path is fairly smooth\n",
    "# num_sub_steps = 3000\n",
    "\n",
    "# # Add the satellite to the existing 'noisy_image' or 'synthetic_image'\n",
    "# # Let's add it to the raw 'synthetic_image' BEFORE we do noise, so we can incorporate it into the final noise model\n",
    "# add_satellite_substepping(\n",
    "#     image=synthetic_image,       # or noisy_image if you prefer\n",
    "#     wcs_obj=wcs_obj,\n",
    "#     start_ra_deg=sat_start_ra,\n",
    "#     start_dec_deg=sat_start_dec,\n",
    "#     end_ra_deg=sat_end_ra,\n",
    "#     end_dec_deg=sat_end_dec,\n",
    "#     total_exposure_s=exposure_time,\n",
    "#     total_satellite_flux=sat_flux_electrons,\n",
    "#     psf_kernel=psf_kernel,\n",
    "#     num_steps=num_sub_steps\n",
    "# )"
   ]
  },
  {
   "cell_type": "code",
   "execution_count": 9,
   "metadata": {},
   "outputs": [],
   "source": [
    "# 5) Add sky background\n",
    "sky_bg = sky_brightness_to_electrons(\n",
    "    sky_mag_per_arcsec2,\n",
    "    plate_scale_arcsec_per_pix=.495,  # matches our WCS scale\n",
    "    exposure_time=exposure_time,\n",
    "    quantum_efficiency=quantum_efficiency,\n",
    "    aperture_area=aperture_area,\n",
    "    mag_zero_point=mag_zero_point\n",
    ")\n",
    "\n",
    "synthetic_image += sky_bg"
   ]
  },
  {
   "cell_type": "code",
   "execution_count": null,
   "metadata": {},
   "outputs": [],
   "source": [
    "#plot the image\n",
    "plt.imshow(synthetic_image, cmap='gray')\n",
    "plt.show()"
   ]
  },
  {
   "cell_type": "code",
   "execution_count": null,
   "metadata": {},
   "outputs": [],
   "source": [
    "# 5) Define your time range (exposure start/end)\n",
    "from datetime import datetime, timedelta\n",
    "from synthetic_image import add_star_trails_skyfield\n",
    "start_time = datetime(2025, 1, 10, 5, 0, 0, tzinfo=timezone.utc)\n",
    "end_time = start_time + timedelta(seconds=600)\n",
    "num_sub_steps = 20  # Enough for smooth trails\n",
    "\n",
    "add_star_trails_skyfield(\n",
    "    image=synthetic_image,\n",
    "    star_catalog=star_catalog,\n",
    "    wcs_obj=wcs_obj,\n",
    "    lat_deg=34.05,\n",
    "    lon_deg=-118.25,\n",
    "    alt_m=100.0,\n",
    "    start_time=start_time,\n",
    "    end_time=end_time,\n",
    "    num_sub_steps=num_sub_steps,\n",
    "    aperture_area=aperture_area,\n",
    "    quantum_efficiency=quantum_efficiency,\n",
    "    mag_zero_point=mag_zero_point,\n",
    "    psf_kernel=psf_kernel,\n",
    "    extinction=1.3  # optional\n",
    ")"
   ]
  },
  {
   "cell_type": "code",
   "execution_count": null,
   "metadata": {},
   "outputs": [],
   "source": [
    "plt.imshow(synthetic_image, cmap='gray')\n",
    "plt.show()"
   ]
  },
  {
   "cell_type": "code",
   "execution_count": 14,
   "metadata": {},
   "outputs": [],
   "source": [
    "# 7) (Optional) Add Poisson and read noise\n",
    "read_noise_e = 5.0  # e- RMS\n",
    "noisy_image = np.random.poisson(synthetic_image) \\\n",
    "                + np.random.normal(loc=0.0, scale=read_noise_e, size=synthetic_image.shape)\n",
    "\n",
    "\n",
    "noisy_image = np.fliplr(noisy_image)"
   ]
  },
  {
   "cell_type": "code",
   "execution_count": null,
   "metadata": {},
   "outputs": [],
   "source": [
    "# plot the image with scaling\n",
    "plt.imshow(noisy_image, cmap='gray', vmin=np.percentile(noisy_image, 0.5), vmax=np.percentile(noisy_image, 99.5))\n",
    "plt.show()"
   ]
  },
  {
   "cell_type": "code",
   "execution_count": null,
   "metadata": {},
   "outputs": [],
   "source": [
    "# 8) Save to a FITS file\n",
    "# Name the file with the current timestamp\n",
    "from datetime import datetime\n",
    "timestamp = datetime.now().strftime(\"%Y%m%d_%H%M%S\")\n",
    "\n",
    "wcs_header[\"EXPTIME\"] = (exposure_time, \"Exposure time in seconds\")\n",
    "wcs_header[\"DATE-OBS\"] = (datetime.utcnow().strftime(\"%Y-%m-%dT%H:%M:%S\"), \"UTC date/time of observation start\")\n",
    "wcs_header[\"TELESCOP\"] = (\"Simulator\", \"Telescope name\")\n",
    "wcs_header[\"PIXSCALE\"] = (pixscale_arcsec, \"Plate scale in arcsec/pixel\")\n",
    "wcs_header[\"RA\"] = (ra_center, \"Right Ascension in degrees\")\n",
    "wcs_header[\"DEC\"] = (dec_center, \"Declination in degrees\")\n",
    "wcs_header[\"RADECSYS\"] = (\"ICRS\", \"Right Ascension and Declination system\")\n",
    "\n",
    "hdu = fits.PrimaryHDU(data=noisy_image, header=wcs_header)\n",
    "hdu.writeto(f\"output/synthetic_image_{timestamp}.fits\", overwrite=True)\n",
    "print(f\"Synthetic image saved to synthetic_image_{timestamp}.fits\")"
   ]
  }
 ],
 "metadata": {
  "kernelspec": {
   "display_name": "venv",
   "language": "python",
   "name": "python3"
  },
  "language_info": {
   "codemirror_mode": {
    "name": "ipython",
    "version": 3
   },
   "file_extension": ".py",
   "mimetype": "text/x-python",
   "name": "python",
   "nbconvert_exporter": "python",
   "pygments_lexer": "ipython3",
   "version": "3.10.13"
  }
 },
 "nbformat": 4,
 "nbformat_minor": 2
}
