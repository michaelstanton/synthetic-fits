{
 "cells": [
  {
   "cell_type": "code",
   "execution_count": 2,
   "metadata": {},
   "outputs": [
    {
     "name": "stdout",
     "output_type": "stream",
     "text": [
      "Querying RA=[0, 30), Dec=[-2.0, 2.0], G<12.0\n",
      "INFO: Query finished. [astroquery.utils.tap.core]\n",
      "  -> Returned 3159 rows\n",
      "Querying RA=[30, 60), Dec=[-2.0, 2.0], G<12.0\n"
     ]
    },
    {
     "ename": "KeyboardInterrupt",
     "evalue": "",
     "output_type": "error",
     "traceback": [
      "\u001b[0;31m---------------------------------------------------------------------------\u001b[0m",
      "\u001b[0;31mKeyboardInterrupt\u001b[0m                         Traceback (most recent call last)",
      "Cell \u001b[0;32mIn[2], line 41\u001b[0m\n\u001b[1;32m     38\u001b[0m \u001b[38;5;28mprint\u001b[39m(\u001b[38;5;124mf\u001b[39m\u001b[38;5;124m\"\u001b[39m\u001b[38;5;124mQuerying RA=[\u001b[39m\u001b[38;5;132;01m{\u001b[39;00mra_min\u001b[38;5;132;01m}\u001b[39;00m\u001b[38;5;124m, \u001b[39m\u001b[38;5;132;01m{\u001b[39;00mra_max\u001b[38;5;132;01m}\u001b[39;00m\u001b[38;5;124m), Dec=[\u001b[39m\u001b[38;5;132;01m{\u001b[39;00mdec_min\u001b[38;5;132;01m}\u001b[39;00m\u001b[38;5;124m, \u001b[39m\u001b[38;5;132;01m{\u001b[39;00mdec_max\u001b[38;5;132;01m}\u001b[39;00m\u001b[38;5;124m], G<\u001b[39m\u001b[38;5;132;01m{\u001b[39;00mg_max\u001b[38;5;132;01m}\u001b[39;00m\u001b[38;5;124m\"\u001b[39m)\n\u001b[1;32m     40\u001b[0m \u001b[38;5;66;03m# Run query\u001b[39;00m\n\u001b[0;32m---> 41\u001b[0m job \u001b[38;5;241m=\u001b[39m \u001b[43mGaia\u001b[49m\u001b[38;5;241;43m.\u001b[39;49m\u001b[43mlaunch_job_async\u001b[49m\u001b[43m(\u001b[49m\u001b[43mquery\u001b[49m\u001b[43m)\u001b[49m\n\u001b[1;32m     42\u001b[0m result_table \u001b[38;5;241m=\u001b[39m job\u001b[38;5;241m.\u001b[39mget_results()\n\u001b[1;32m     43\u001b[0m \u001b[38;5;28mprint\u001b[39m(\u001b[38;5;124mf\u001b[39m\u001b[38;5;124m\"\u001b[39m\u001b[38;5;124m  -> Returned \u001b[39m\u001b[38;5;132;01m{\u001b[39;00m\u001b[38;5;28mlen\u001b[39m(result_table)\u001b[38;5;132;01m}\u001b[39;00m\u001b[38;5;124m rows\u001b[39m\u001b[38;5;124m\"\u001b[39m)\n",
      "File \u001b[0;32m~/projects/astrophotography/synthetic-data/venv/lib/python3.10/site-packages/astroquery/gaia/core.py:1013\u001b[0m, in \u001b[0;36mGaiaClass.launch_job_async\u001b[0;34m(self, query, name, output_file, output_format, verbose, dump_to_file, background, upload_resource, upload_table_name, autorun)\u001b[0m\n\u001b[1;32m    972\u001b[0m \u001b[38;5;28;01mdef\u001b[39;00m\u001b[38;5;250m \u001b[39m\u001b[38;5;21mlaunch_job_async\u001b[39m(\u001b[38;5;28mself\u001b[39m, query, \u001b[38;5;241m*\u001b[39m, name\u001b[38;5;241m=\u001b[39m\u001b[38;5;28;01mNone\u001b[39;00m, output_file\u001b[38;5;241m=\u001b[39m\u001b[38;5;28;01mNone\u001b[39;00m,\n\u001b[1;32m    973\u001b[0m                      output_format\u001b[38;5;241m=\u001b[39m\u001b[38;5;124m\"\u001b[39m\u001b[38;5;124mvotable_gzip\u001b[39m\u001b[38;5;124m\"\u001b[39m, verbose\u001b[38;5;241m=\u001b[39m\u001b[38;5;28;01mFalse\u001b[39;00m,\n\u001b[1;32m    974\u001b[0m                      dump_to_file\u001b[38;5;241m=\u001b[39m\u001b[38;5;28;01mFalse\u001b[39;00m, background\u001b[38;5;241m=\u001b[39m\u001b[38;5;28;01mFalse\u001b[39;00m,\n\u001b[1;32m    975\u001b[0m                      upload_resource\u001b[38;5;241m=\u001b[39m\u001b[38;5;28;01mNone\u001b[39;00m, upload_table_name\u001b[38;5;241m=\u001b[39m\u001b[38;5;28;01mNone\u001b[39;00m,\n\u001b[1;32m    976\u001b[0m                      autorun\u001b[38;5;241m=\u001b[39m\u001b[38;5;28;01mTrue\u001b[39;00m):\n\u001b[1;32m    977\u001b[0m \u001b[38;5;250m    \u001b[39m\u001b[38;5;124;03m\"\"\"Launches an asynchronous job\u001b[39;00m\n\u001b[1;32m    978\u001b[0m \n\u001b[1;32m    979\u001b[0m \u001b[38;5;124;03m    Parameters\u001b[39;00m\n\u001b[0;32m   (...)\u001b[0m\n\u001b[1;32m   1011\u001b[0m \u001b[38;5;124;03m    A Job object\u001b[39;00m\n\u001b[1;32m   1012\u001b[0m \u001b[38;5;124;03m    \"\"\"\u001b[39;00m\n\u001b[0;32m-> 1013\u001b[0m     \u001b[38;5;28;01mreturn\u001b[39;00m \u001b[43mTapPlus\u001b[49m\u001b[38;5;241;43m.\u001b[39;49m\u001b[43mlaunch_job_async\u001b[49m\u001b[43m(\u001b[49m\u001b[38;5;28;43mself\u001b[39;49m\u001b[43m,\u001b[49m\u001b[43m \u001b[49m\u001b[43mquery\u001b[49m\u001b[38;5;241;43m=\u001b[39;49m\u001b[43mquery\u001b[49m\u001b[43m,\u001b[49m\n\u001b[1;32m   1014\u001b[0m \u001b[43m                                    \u001b[49m\u001b[43mname\u001b[49m\u001b[38;5;241;43m=\u001b[39;49m\u001b[43mname\u001b[49m\u001b[43m,\u001b[49m\n\u001b[1;32m   1015\u001b[0m \u001b[43m                                    \u001b[49m\u001b[43moutput_file\u001b[49m\u001b[38;5;241;43m=\u001b[39;49m\u001b[43moutput_file\u001b[49m\u001b[43m,\u001b[49m\n\u001b[1;32m   1016\u001b[0m \u001b[43m                                    \u001b[49m\u001b[43moutput_format\u001b[49m\u001b[38;5;241;43m=\u001b[39;49m\u001b[43moutput_format\u001b[49m\u001b[43m,\u001b[49m\n\u001b[1;32m   1017\u001b[0m \u001b[43m                                    \u001b[49m\u001b[43mverbose\u001b[49m\u001b[38;5;241;43m=\u001b[39;49m\u001b[43mverbose\u001b[49m\u001b[43m,\u001b[49m\n\u001b[1;32m   1018\u001b[0m \u001b[43m                                    \u001b[49m\u001b[43mdump_to_file\u001b[49m\u001b[38;5;241;43m=\u001b[39;49m\u001b[43mdump_to_file\u001b[49m\u001b[43m,\u001b[49m\n\u001b[1;32m   1019\u001b[0m \u001b[43m                                    \u001b[49m\u001b[43mbackground\u001b[49m\u001b[38;5;241;43m=\u001b[39;49m\u001b[43mbackground\u001b[49m\u001b[43m,\u001b[49m\n\u001b[1;32m   1020\u001b[0m \u001b[43m                                    \u001b[49m\u001b[43mupload_resource\u001b[49m\u001b[38;5;241;43m=\u001b[39;49m\u001b[43mupload_resource\u001b[49m\u001b[43m,\u001b[49m\n\u001b[1;32m   1021\u001b[0m \u001b[43m                                    \u001b[49m\u001b[43mupload_table_name\u001b[49m\u001b[38;5;241;43m=\u001b[39;49m\u001b[43mupload_table_name\u001b[49m\u001b[43m,\u001b[49m\n\u001b[1;32m   1022\u001b[0m \u001b[43m                                    \u001b[49m\u001b[43mautorun\u001b[49m\u001b[38;5;241;43m=\u001b[39;49m\u001b[43mautorun\u001b[49m\u001b[43m,\u001b[49m\n\u001b[1;32m   1023\u001b[0m \u001b[43m                                    \u001b[49m\u001b[43mformat_with_results_compressed\u001b[49m\u001b[38;5;241;43m=\u001b[39;49m\u001b[43m(\u001b[49m\u001b[38;5;124;43m'\u001b[39;49m\u001b[38;5;124;43mvotable_gzip\u001b[39;49m\u001b[38;5;124;43m'\u001b[39;49m\u001b[43m,\u001b[49m\u001b[43m)\u001b[49m\u001b[43m)\u001b[49m\n",
      "File \u001b[0;32m~/projects/astrophotography/synthetic-data/venv/lib/python3.10/site-packages/astroquery/utils/tap/core.py:468\u001b[0m, in \u001b[0;36mTap.launch_job_async\u001b[0;34m(self, query, name, output_file, output_format, verbose, dump_to_file, background, upload_resource, upload_table_name, autorun, maxrec, format_with_results_compressed)\u001b[0m\n\u001b[1;32m    466\u001b[0m                 job\u001b[38;5;241m.\u001b[39msave_results(verbose\u001b[38;5;241m=\u001b[39mverbose)\n\u001b[1;32m    467\u001b[0m             \u001b[38;5;28;01melse\u001b[39;00m:\n\u001b[0;32m--> 468\u001b[0m                 \u001b[43mjob\u001b[49m\u001b[38;5;241;43m.\u001b[39;49m\u001b[43mget_results\u001b[49m\u001b[43m(\u001b[49m\u001b[43m)\u001b[49m\n\u001b[1;32m    469\u001b[0m                 log\u001b[38;5;241m.\u001b[39minfo(\u001b[38;5;124m\"\u001b[39m\u001b[38;5;124mQuery finished.\u001b[39m\u001b[38;5;124m\"\u001b[39m)\n\u001b[1;32m    470\u001b[0m \u001b[38;5;28;01mreturn\u001b[39;00m job\n",
      "File \u001b[0;32m~/projects/astrophotography/synthetic-data/venv/lib/python3.10/site-packages/astroquery/utils/tap/model/job.py:247\u001b[0m, in \u001b[0;36mJob.get_results\u001b[0;34m(self)\u001b[0m\n\u001b[1;32m    244\u001b[0m     \u001b[38;5;28;01mreturn\u001b[39;00m \u001b[38;5;28;01mNone\u001b[39;00m\n\u001b[1;32m    245\u001b[0m \u001b[38;5;28;01melse\u001b[39;00m:\n\u001b[1;32m    246\u001b[0m     \u001b[38;5;66;03m# async: result is in the server once the job is finished\u001b[39;00m\n\u001b[0;32m--> 247\u001b[0m     \u001b[38;5;28;43mself\u001b[39;49m\u001b[38;5;241;43m.\u001b[39;49m\u001b[43m__load_async_job_results\u001b[49m\u001b[43m(\u001b[49m\u001b[43m)\u001b[49m\n\u001b[1;32m    248\u001b[0m     \u001b[38;5;28;01mreturn\u001b[39;00m \u001b[38;5;28mself\u001b[39m\u001b[38;5;241m.\u001b[39mresults\n",
      "File \u001b[0;32m~/projects/astrophotography/synthetic-data/venv/lib/python3.10/site-packages/astroquery/utils/tap/model/job.py:342\u001b[0m, in \u001b[0;36mJob.__load_async_job_results\u001b[0;34m(self, debug)\u001b[0m\n\u001b[1;32m    341\u001b[0m \u001b[38;5;28;01mdef\u001b[39;00m\u001b[38;5;250m \u001b[39m\u001b[38;5;21m__load_async_job_results\u001b[39m(\u001b[38;5;28mself\u001b[39m, \u001b[38;5;241m*\u001b[39m, debug\u001b[38;5;241m=\u001b[39m\u001b[38;5;28;01mFalse\u001b[39;00m):\n\u001b[0;32m--> 342\u001b[0m     wjResponse, phase \u001b[38;5;241m=\u001b[39m \u001b[38;5;28;43mself\u001b[39;49m\u001b[38;5;241;43m.\u001b[39;49m\u001b[43mwait_for_job_end\u001b[49m\u001b[43m(\u001b[49m\u001b[43m)\u001b[49m\n\u001b[1;32m    343\u001b[0m     subContext \u001b[38;5;241m=\u001b[39m \u001b[38;5;124mf\u001b[39m\u001b[38;5;124m\"\u001b[39m\u001b[38;5;124masync/\u001b[39m\u001b[38;5;132;01m{\u001b[39;00m\u001b[38;5;28mself\u001b[39m\u001b[38;5;241m.\u001b[39mjobid\u001b[38;5;132;01m}\u001b[39;00m\u001b[38;5;124m/results/result\u001b[39m\u001b[38;5;124m\"\u001b[39m\n\u001b[1;32m    344\u001b[0m     resultsResponse \u001b[38;5;241m=\u001b[39m \u001b[38;5;28mself\u001b[39m\u001b[38;5;241m.\u001b[39mconnHandler\u001b[38;5;241m.\u001b[39mexecute_tapget(subContext)\n",
      "File \u001b[0;32m~/projects/astrophotography/synthetic-data/venv/lib/python3.10/site-packages/astroquery/utils/tap/model/job.py:338\u001b[0m, in \u001b[0;36mJob.wait_for_job_end\u001b[0;34m(self, verbose)\u001b[0m\n\u001b[1;32m    335\u001b[0m         \u001b[38;5;28;01mbreak\u001b[39;00m\n\u001b[1;32m    336\u001b[0m     \u001b[38;5;66;03m# PENDING, QUEUED, EXECUTING, COMPLETED, ERROR, ABORTED, UNKNOWN,\u001b[39;00m\n\u001b[1;32m    337\u001b[0m     \u001b[38;5;66;03m# HELD, SUSPENDED, ARCHIVED:\u001b[39;00m\n\u001b[0;32m--> 338\u001b[0m     \u001b[43mtime\u001b[49m\u001b[38;5;241;43m.\u001b[39;49m\u001b[43msleep\u001b[49m\u001b[43m(\u001b[49m\u001b[38;5;241;43m0.5\u001b[39;49m\u001b[43m)\u001b[49m\n\u001b[1;32m    339\u001b[0m \u001b[38;5;28;01mreturn\u001b[39;00m currentResponse, lphase\n",
      "\u001b[0;31mKeyboardInterrupt\u001b[0m: "
     ]
    }
   ],
   "source": [
    "from astroquery.gaia import Gaia\n",
    "from astropy.table import Table, vstack\n",
    "import numpy as np\n",
    "\n",
    "# We'll impose a magnitude limit to keep the dataset somewhat manageable.\n",
    "# For example, G < 18 or G < 19.5. (Adjust as needed.)\n",
    "g_max = 20.0\n",
    "\n",
    "# If you try to do it in one single shot:\n",
    "#   SELECT * \n",
    "#   FROM gaiaedr3.gaia_source\n",
    "#   WHERE dec BETWEEN -2 AND 2\n",
    "#   AND phot_g_mean_mag < g_max\n",
    "# it might be extremely large and could time out. \n",
    "# Therefore, we do a loop over RA in small increments (e.g. 30° each)\n",
    "# and merge the results.\n",
    "\n",
    "deg_step = 1\n",
    "dec_min, dec_max = -2.0, 2.0\n",
    "\n",
    "all_results = None\n",
    "\n",
    "for ra_min in range(0, 360, deg_step):\n",
    "    ra_max = ra_min + deg_step\n",
    "\n",
    "    # Build your ADQL query\n",
    "    query = f\"\"\"\n",
    "    SELECT\n",
    "      source_id,\n",
    "      ra,\n",
    "      dec,\n",
    "      phot_g_mean_mag\n",
    "    FROM gaiaedr3.gaia_source\n",
    "    WHERE ra BETWEEN {ra_min} AND {ra_max}\n",
    "      AND dec BETWEEN {dec_min} AND {dec_max}\n",
    "      AND phot_g_mean_mag < {g_max}\n",
    "    \"\"\"\n",
    "    print(f\"Querying RA=[{ra_min}, {ra_max}), Dec=[{dec_min}, {dec_max}], G<{g_max}\")\n",
    "    \n",
    "    # Run query\n",
    "    job = Gaia.launch_job_async(query)\n",
    "    result_table = job.get_results()\n",
    "    print(f\"  -> Returned {len(result_table)} rows\")\n",
    "    \n",
    "    if all_results is None:\n",
    "        all_results = result_table\n",
    "    else:\n",
    "        all_results = vstack([all_results, result_table])\n",
    "\n",
    "# Optionally remove duplicates by source_id if they appear in overlapping edges\n",
    "unique_ids, idx = np.unique(all_results['source_id'], return_index=True)\n",
    "all_results = all_results[idx]\n",
    "\n",
    "print(f\"Final total rows: {len(all_results)}\")\n",
    "\n",
    "# Save to disk\n",
    "out_file = \"celestial_equator_band.fits\"\n",
    "all_results.write(out_file, overwrite=True)\n",
    "print(f\"Saved file: {out_file}\")"
   ]
  }
 ],
 "metadata": {
  "kernelspec": {
   "display_name": "venv",
   "language": "python",
   "name": "python3"
  },
  "language_info": {
   "codemirror_mode": {
    "name": "ipython",
    "version": 3
   },
   "file_extension": ".py",
   "mimetype": "text/x-python",
   "name": "python",
   "nbconvert_exporter": "python",
   "pygments_lexer": "ipython3",
   "version": "3.10.13"
  }
 },
 "nbformat": 4,
 "nbformat_minor": 2
}
